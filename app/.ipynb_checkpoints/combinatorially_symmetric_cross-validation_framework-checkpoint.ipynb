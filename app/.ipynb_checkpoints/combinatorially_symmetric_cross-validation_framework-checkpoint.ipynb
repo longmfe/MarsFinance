{
 "cells": [
  {
   "cell_type": "markdown",
   "id": "7dd33021-6c2b-4799-b454-3751d5a4761b",
   "metadata": {},
   "source": [
    "PBO（Probability of Backtest Overfitting）是定量衡量回测过拟合风险的指标，计算方式 基于 Bailey、Borwein、López de Prado 和 Zhu 在 2017 年提出的组合对称交叉验证 （Combinatorially-Symmetric Cross-Validation，简记为 CSCV）框架。"
   ]
  },
  {
   "cell_type": "markdown",
   "id": "833882c9-de70-415a-9bf0-dd2b013f335f",
   "metadata": {},
   "source": [
    "PBO 的计算步骤：\n",
    "1. 构建矩阵$M_{T\\times\\\\N}$每列分别表示第N组策略下 T期的收益率序列。\n"
   ]
  },
  {
   "cell_type": "code",
   "execution_count": null,
   "id": "4558d5af-d82e-4610-83fe-342d63a20ed2",
   "metadata": {},
   "outputs": [],
   "source": []
  }
 ],
 "metadata": {
  "kernelspec": {
   "display_name": "Python 3 (ipykernel)",
   "language": "python",
   "name": "python3"
  },
  "language_info": {
   "codemirror_mode": {
    "name": "ipython",
    "version": 3
   },
   "file_extension": ".py",
   "mimetype": "text/x-python",
   "name": "python",
   "nbconvert_exporter": "python",
   "pygments_lexer": "ipython3",
   "version": "3.11.7"
  }
 },
 "nbformat": 4,
 "nbformat_minor": 5
}
