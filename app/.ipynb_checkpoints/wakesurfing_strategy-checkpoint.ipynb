{
 "cells": [
  {
   "cell_type": "markdown",
   "id": "47a59049-e4a9-492f-b106-d8696f977a4f",
   "metadata": {},
   "source": [
    "\n",
    "<font color=\"steelblue\" size=\"5\" face=\"微软雅黑\">\n",
    "<h1>策略开发</h1>\n",
    "<p>根据当日交易量与过去N条交易量的比值，筛选出符合该特征胜率比较高的证券标的，并对这个范围内的标的进行买入和卖出</p>\n",
    "</font>"
   ]
  },
  {
   "cell_type": "code",
   "execution_count": null,
   "id": "475e028d-584d-4b40-bfce-830b6d2bc086",
   "metadata": {},
   "outputs": [],
   "source": []
  }
 ],
 "metadata": {
  "kernelspec": {
   "display_name": "Python 3 (ipykernel)",
   "language": "python",
   "name": "python3"
  },
  "language_info": {
   "codemirror_mode": {
    "name": "ipython",
    "version": 3
   },
   "file_extension": ".py",
   "mimetype": "text/x-python",
   "name": "python",
   "nbconvert_exporter": "python",
   "pygments_lexer": "ipython3",
   "version": "3.11.7"
  }
 },
 "nbformat": 4,
 "nbformat_minor": 5
}
